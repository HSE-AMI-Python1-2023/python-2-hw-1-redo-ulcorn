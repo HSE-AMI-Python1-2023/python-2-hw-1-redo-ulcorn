{
 "cells": [
  {
   "cell_type": "markdown",
   "metadata": {
    "id": "4yd8s-mVJ6nW"
   },
   "source": [
    "# Продвинутый Python, ДЗ-1\n",
    "\n",
    "Правила игры:\n",
    "\n",
    "* В домашке 5 задач, разбалловка указана в названии задачи. Суммарно за дз можно получить 100 баллов, что равняется 10 баллам\n",
    "\n",
    "* В каждой задаче необходимо реализовать функцию, которая после будет проверяться через github classroom на тестах. Сами тесты лежит в гитхабе, можете локально проверить работу функций перед сдачей\n",
    "\n",
    "* Дедлайн - 7 дней после выдачи дз. Необходимо залить решеннный ноутбук в github и прислать ссылку в Anytask (без выполнения любого из пунктов работа проверяться не будет)\n",
    "\n",
    "* В данной домашке нужно использовать numpy и scipy\n",
    "\n",
    "* Использование for будет караться"
   ]
  },
  {
   "cell_type": "code",
   "execution_count": 1,
   "metadata": {
    "id": "mUttu6ZDwdz1"
   },
   "outputs": [
    {
     "ename": "KeyboardInterrupt",
     "evalue": "",
     "output_type": "error",
     "traceback": [
      "\u001B[0;31m---------------------------------------------------------------------------\u001B[0m",
      "\u001B[0;31mKeyboardInterrupt\u001B[0m                         Traceback (most recent call last)",
      "Cell \u001B[0;32mIn[1], line 7\u001B[0m\n\u001B[1;32m      4\u001B[0m \u001B[38;5;28;01mimport\u001B[39;00m \u001B[38;5;21;01mwarnings\u001B[39;00m\n\u001B[1;32m      6\u001B[0m \u001B[38;5;28;01mimport\u001B[39;00m \u001B[38;5;21;01mnumpy\u001B[39;00m \u001B[38;5;28;01mas\u001B[39;00m \u001B[38;5;21;01mnp\u001B[39;00m\n\u001B[0;32m----> 7\u001B[0m \u001B[38;5;28;01mfrom\u001B[39;00m \u001B[38;5;21;01mscipy\u001B[39;00m\u001B[38;5;21;01m.\u001B[39;00m\u001B[38;5;21;01mstats\u001B[39;00m \u001B[38;5;28;01mimport\u001B[39;00m qmc\n\u001B[1;32m      8\u001B[0m \u001B[38;5;28;01mimport\u001B[39;00m \u001B[38;5;21;01mmatplotlib\u001B[39;00m\u001B[38;5;21;01m.\u001B[39;00m\u001B[38;5;21;01mpyplot\u001B[39;00m \u001B[38;5;28;01mas\u001B[39;00m \u001B[38;5;21;01mplt\u001B[39;00m\n\u001B[1;32m     10\u001B[0m \u001B[38;5;28;01mfrom\u001B[39;00m \u001B[38;5;21;01mIPython\u001B[39;00m\u001B[38;5;21;01m.\u001B[39;00m\u001B[38;5;21;01mdisplay\u001B[39;00m \u001B[38;5;28;01mimport\u001B[39;00m clear_output\n",
      "File \u001B[0;32m~/anaconda3/lib/python3.11/site-packages/scipy/stats/__init__.py:608\u001B[0m\n\u001B[1;32m      1\u001B[0m \u001B[38;5;124;03m\"\"\"\u001B[39;00m\n\u001B[1;32m      2\u001B[0m \u001B[38;5;124;03m.. _statsrefmanual:\u001B[39;00m\n\u001B[1;32m      3\u001B[0m \n\u001B[0;32m   (...)\u001B[0m\n\u001B[1;32m    603\u001B[0m \n\u001B[1;32m    604\u001B[0m \u001B[38;5;124;03m\"\"\"\u001B[39;00m\n\u001B[1;32m    606\u001B[0m \u001B[38;5;28;01mfrom\u001B[39;00m \u001B[38;5;21;01m.\u001B[39;00m\u001B[38;5;21;01m_warnings_errors\u001B[39;00m \u001B[38;5;28;01mimport\u001B[39;00m (ConstantInputWarning, NearConstantInputWarning,\n\u001B[1;32m    607\u001B[0m                                DegenerateDataWarning, FitError)\n\u001B[0;32m--> 608\u001B[0m \u001B[38;5;28;01mfrom\u001B[39;00m \u001B[38;5;21;01m.\u001B[39;00m\u001B[38;5;21;01m_stats_py\u001B[39;00m \u001B[38;5;28;01mimport\u001B[39;00m \u001B[38;5;241m*\u001B[39m\n\u001B[1;32m    609\u001B[0m \u001B[38;5;28;01mfrom\u001B[39;00m \u001B[38;5;21;01m.\u001B[39;00m\u001B[38;5;21;01m_variation\u001B[39;00m \u001B[38;5;28;01mimport\u001B[39;00m variation\n\u001B[1;32m    610\u001B[0m \u001B[38;5;28;01mfrom\u001B[39;00m \u001B[38;5;21;01m.\u001B[39;00m\u001B[38;5;21;01mdistributions\u001B[39;00m \u001B[38;5;28;01mimport\u001B[39;00m \u001B[38;5;241m*\u001B[39m\n",
      "File \u001B[0;32m~/anaconda3/lib/python3.11/site-packages/scipy/stats/_stats_py.py:39\u001B[0m\n\u001B[1;32m     36\u001B[0m \u001B[38;5;28;01mfrom\u001B[39;00m \u001B[38;5;21;01mnumpy\u001B[39;00m\u001B[38;5;21;01m.\u001B[39;00m\u001B[38;5;21;01mlib\u001B[39;00m \u001B[38;5;28;01mimport\u001B[39;00m NumpyVersion\n\u001B[1;32m     37\u001B[0m \u001B[38;5;28;01mfrom\u001B[39;00m \u001B[38;5;21;01mnumpy\u001B[39;00m\u001B[38;5;21;01m.\u001B[39;00m\u001B[38;5;21;01mtesting\u001B[39;00m \u001B[38;5;28;01mimport\u001B[39;00m suppress_warnings\n\u001B[0;32m---> 39\u001B[0m \u001B[38;5;28;01mfrom\u001B[39;00m \u001B[38;5;21;01mscipy\u001B[39;00m\u001B[38;5;21;01m.\u001B[39;00m\u001B[38;5;21;01mspatial\u001B[39;00m\u001B[38;5;21;01m.\u001B[39;00m\u001B[38;5;21;01mdistance\u001B[39;00m \u001B[38;5;28;01mimport\u001B[39;00m cdist\n\u001B[1;32m     40\u001B[0m \u001B[38;5;28;01mfrom\u001B[39;00m \u001B[38;5;21;01mscipy\u001B[39;00m\u001B[38;5;21;01m.\u001B[39;00m\u001B[38;5;21;01mndimage\u001B[39;00m \u001B[38;5;28;01mimport\u001B[39;00m _measurements\n\u001B[1;32m     41\u001B[0m \u001B[38;5;28;01mfrom\u001B[39;00m \u001B[38;5;21;01mscipy\u001B[39;00m\u001B[38;5;21;01m.\u001B[39;00m\u001B[38;5;21;01m_lib\u001B[39;00m\u001B[38;5;21;01m.\u001B[39;00m\u001B[38;5;21;01m_util\u001B[39;00m \u001B[38;5;28;01mimport\u001B[39;00m (check_random_state, MapWrapper, _get_nan,\n\u001B[1;32m     42\u001B[0m                               rng_integers, _rename_parameter, _contains_nan)\n",
      "File \u001B[0;32m~/anaconda3/lib/python3.11/site-packages/scipy/spatial/__init__.py:116\u001B[0m\n\u001B[1;32m    114\u001B[0m \u001B[38;5;28;01mfrom\u001B[39;00m \u001B[38;5;21;01m.\u001B[39;00m\u001B[38;5;21;01m_plotutils\u001B[39;00m \u001B[38;5;28;01mimport\u001B[39;00m \u001B[38;5;241m*\u001B[39m\n\u001B[1;32m    115\u001B[0m \u001B[38;5;28;01mfrom\u001B[39;00m \u001B[38;5;21;01m.\u001B[39;00m\u001B[38;5;21;01m_procrustes\u001B[39;00m \u001B[38;5;28;01mimport\u001B[39;00m procrustes\n\u001B[0;32m--> 116\u001B[0m \u001B[38;5;28;01mfrom\u001B[39;00m \u001B[38;5;21;01m.\u001B[39;00m\u001B[38;5;21;01m_geometric_slerp\u001B[39;00m \u001B[38;5;28;01mimport\u001B[39;00m geometric_slerp\n\u001B[1;32m    118\u001B[0m \u001B[38;5;66;03m# Deprecated namespaces, to be removed in v2.0.0\u001B[39;00m\n\u001B[1;32m    119\u001B[0m \u001B[38;5;28;01mfrom\u001B[39;00m \u001B[38;5;21;01m.\u001B[39;00m \u001B[38;5;28;01mimport\u001B[39;00m ckdtree, kdtree, qhull\n",
      "File \u001B[0;32m~/anaconda3/lib/python3.11/site-packages/scipy/spatial/_geometric_slerp.py:9\u001B[0m\n\u001B[1;32m      6\u001B[0m \u001B[38;5;28;01mfrom\u001B[39;00m \u001B[38;5;21;01mtyping\u001B[39;00m \u001B[38;5;28;01mimport\u001B[39;00m TYPE_CHECKING\n\u001B[1;32m      8\u001B[0m \u001B[38;5;28;01mimport\u001B[39;00m \u001B[38;5;21;01mnumpy\u001B[39;00m \u001B[38;5;28;01mas\u001B[39;00m \u001B[38;5;21;01mnp\u001B[39;00m\n\u001B[0;32m----> 9\u001B[0m \u001B[38;5;28;01mfrom\u001B[39;00m \u001B[38;5;21;01mscipy\u001B[39;00m\u001B[38;5;21;01m.\u001B[39;00m\u001B[38;5;21;01mspatial\u001B[39;00m\u001B[38;5;21;01m.\u001B[39;00m\u001B[38;5;21;01mdistance\u001B[39;00m \u001B[38;5;28;01mimport\u001B[39;00m euclidean\n\u001B[1;32m     11\u001B[0m \u001B[38;5;28;01mif\u001B[39;00m TYPE_CHECKING:\n\u001B[1;32m     12\u001B[0m     \u001B[38;5;28;01mimport\u001B[39;00m \u001B[38;5;21;01mnumpy\u001B[39;00m\u001B[38;5;21;01m.\u001B[39;00m\u001B[38;5;21;01mtyping\u001B[39;00m \u001B[38;5;28;01mas\u001B[39;00m \u001B[38;5;21;01mnpt\u001B[39;00m\n",
      "File \u001B[0;32m~/anaconda3/lib/python3.11/site-packages/scipy/spatial/distance.py:121\u001B[0m\n\u001B[1;32m    119\u001B[0m \u001B[38;5;28;01mfrom\u001B[39;00m \u001B[38;5;21;01m.\u001B[39;00m \u001B[38;5;28;01mimport\u001B[39;00m _hausdorff\n\u001B[1;32m    120\u001B[0m \u001B[38;5;28;01mfrom\u001B[39;00m \u001B[38;5;21;01m.\u001B[39;00m\u001B[38;5;21;01m.\u001B[39;00m\u001B[38;5;21;01mlinalg\u001B[39;00m \u001B[38;5;28;01mimport\u001B[39;00m norm\n\u001B[0;32m--> 121\u001B[0m \u001B[38;5;28;01mfrom\u001B[39;00m \u001B[38;5;21;01m.\u001B[39;00m\u001B[38;5;21;01m.\u001B[39;00m\u001B[38;5;21;01mspecial\u001B[39;00m \u001B[38;5;28;01mimport\u001B[39;00m rel_entr\n\u001B[1;32m    123\u001B[0m \u001B[38;5;28;01mfrom\u001B[39;00m \u001B[38;5;21;01m.\u001B[39;00m \u001B[38;5;28;01mimport\u001B[39;00m _distance_pybind\n\u001B[1;32m    126\u001B[0m \u001B[38;5;28;01mdef\u001B[39;00m \u001B[38;5;21m_extra_windows_error_checks\u001B[39m(x, out, required_shape, \u001B[38;5;241m*\u001B[39m\u001B[38;5;241m*\u001B[39mkwargs):\n\u001B[1;32m    127\u001B[0m     \u001B[38;5;66;03m# TODO: remove this function when distutils\u001B[39;00m\n\u001B[1;32m    128\u001B[0m     \u001B[38;5;66;03m# build system is removed because pybind11 error\u001B[39;00m\n\u001B[1;32m    129\u001B[0m     \u001B[38;5;66;03m# handling should suffice per gh-18108\u001B[39;00m\n",
      "File \u001B[0;32m~/anaconda3/lib/python3.11/site-packages/scipy/special/__init__.py:775\u001B[0m\n\u001B[1;32m    772\u001B[0m \u001B[38;5;28;01mfrom\u001B[39;00m \u001B[38;5;21;01m.\u001B[39;00m \u001B[38;5;28;01mimport\u001B[39;00m _ufuncs\n\u001B[1;32m    773\u001B[0m \u001B[38;5;28;01mfrom\u001B[39;00m \u001B[38;5;21;01m.\u001B[39;00m\u001B[38;5;21;01m_ufuncs\u001B[39;00m \u001B[38;5;28;01mimport\u001B[39;00m \u001B[38;5;241m*\u001B[39m\n\u001B[0;32m--> 775\u001B[0m \u001B[38;5;28;01mfrom\u001B[39;00m \u001B[38;5;21;01m.\u001B[39;00m \u001B[38;5;28;01mimport\u001B[39;00m _basic\n\u001B[1;32m    776\u001B[0m \u001B[38;5;28;01mfrom\u001B[39;00m \u001B[38;5;21;01m.\u001B[39;00m\u001B[38;5;21;01m_basic\u001B[39;00m \u001B[38;5;28;01mimport\u001B[39;00m \u001B[38;5;241m*\u001B[39m\n\u001B[1;32m    778\u001B[0m \u001B[38;5;28;01mfrom\u001B[39;00m \u001B[38;5;21;01m.\u001B[39;00m\u001B[38;5;21;01m_logsumexp\u001B[39;00m \u001B[38;5;28;01mimport\u001B[39;00m logsumexp, softmax, log_softmax\n",
      "File \u001B[0;32m~/anaconda3/lib/python3.11/site-packages/scipy/special/_basic.py:16\u001B[0m\n\u001B[1;32m     13\u001B[0m \u001B[38;5;28;01mfrom\u001B[39;00m \u001B[38;5;21;01m.\u001B[39;00m\u001B[38;5;21;01m_ufuncs\u001B[39;00m \u001B[38;5;28;01mimport\u001B[39;00m (mathieu_a, mathieu_b, iv, jv, gamma,\n\u001B[1;32m     14\u001B[0m                       psi, hankel1, hankel2, yv, kv, poch, binom)\n\u001B[1;32m     15\u001B[0m \u001B[38;5;28;01mfrom\u001B[39;00m \u001B[38;5;21;01m.\u001B[39;00m \u001B[38;5;28;01mimport\u001B[39;00m _specfun\n\u001B[0;32m---> 16\u001B[0m \u001B[38;5;28;01mfrom\u001B[39;00m \u001B[38;5;21;01m.\u001B[39;00m\u001B[38;5;21;01m_comb\u001B[39;00m \u001B[38;5;28;01mimport\u001B[39;00m _comb_int\n\u001B[1;32m     19\u001B[0m __all__ \u001B[38;5;241m=\u001B[39m [\n\u001B[1;32m     20\u001B[0m     \u001B[38;5;124m'\u001B[39m\u001B[38;5;124mai_zeros\u001B[39m\u001B[38;5;124m'\u001B[39m,\n\u001B[1;32m     21\u001B[0m     \u001B[38;5;124m'\u001B[39m\u001B[38;5;124massoc_laguerre\u001B[39m\u001B[38;5;124m'\u001B[39m,\n\u001B[0;32m   (...)\u001B[0m\n\u001B[1;32m     77\u001B[0m     \u001B[38;5;124m'\u001B[39m\u001B[38;5;124mzeta\u001B[39m\u001B[38;5;124m'\u001B[39m\n\u001B[1;32m     78\u001B[0m ]\n\u001B[1;32m     81\u001B[0m \u001B[38;5;66;03m# mapping k to last n such that factorialk(n, k) < np.iinfo(np.int64).max\u001B[39;00m\n",
      "File \u001B[0;32m<frozen importlib._bootstrap>:405\u001B[0m, in \u001B[0;36mparent\u001B[0;34m(self)\u001B[0m\n",
      "\u001B[0;31mKeyboardInterrupt\u001B[0m: "
     ]
    }
   ],
   "source": [
    "import math\n",
    "import time\n",
    "import random\n",
    "import warnings\n",
    "\n",
    "import numpy as np\n",
    "from scipy.stats import qmc\n",
    "import matplotlib.pyplot as plt\n",
    "\n",
    "from IPython.display import clear_output\n",
    "\n",
    "warnings.simplefilter(action='ignore', category=FutureWarning)\n",
    "warnings.filterwarnings(\"ignore\", category=np.VisibleDeprecationWarning)\n",
    "warnings.filterwarnings(\"ignore\", category=DeprecationWarning)\n",
    "warnings.filterwarnings(\"ignore\", category=UserWarning)\n",
    "\n",
    "SEED = 21\n",
    "random.seed(SEED)\n",
    "np.random.seed(SEED)"
   ]
  },
  {
   "cell_type": "code",
   "execution_count": null,
   "metadata": {
    "id": "kIFC0qWgL68S"
   },
   "outputs": [],
   "source": [
    "# https://stackoverflow.com/a/60658965/7286121\n",
    "\n",
    "from IPython.core.magic import register_cell_magic\n",
    "\n",
    "\n",
    "@register_cell_magic\n",
    "def write_and_run(line, cell):\n",
    "    argz = line.split()\n",
    "    file = argz[-1]\n",
    "    mode = 'w'\n",
    "    if len(argz) == 2 and argz[0] == '-a':\n",
    "        mode = 'a'\n",
    "    with open(file, mode) as f:\n",
    "        f.write(cell)\n",
    "    get_ipython().run_cell(cell)"
   ]
  },
  {
   "cell_type": "markdown",
   "metadata": {
    "id": "C1GY5aiU0Lyx"
   },
   "source": [
    "# Задание №0 (10 баллов)\n",
    "\n",
    "Реализуйте с помощью ```np.einsum``` следующие операции для векторов:\n",
    "\n",
    "1. ```np.sum(A)```\n",
    "2. ```A * B```\n",
    "3. ```np.inner(A, B)```\n",
    "4. ```np.outer(A, B)```\n"
   ]
  },
  {
   "cell_type": "markdown",
   "metadata": {
    "id": "Gu9327wBzMfp"
   },
   "source": [
    "# Задание №1 (10 баллов)\n",
    "\n",
    "Фильтр Гаусса - это мощное средство при обработке изображений, которое позволяет избавиться от лишнего шума в картинке (а также дает возможность размыть картинку)\n",
    "\n",
    "Для наглядности как работает фильтр:\n",
    "\n",
    "![](https://upload.wikimedia.org/wikipedia/commons/thumb/6/62/Cappadocia_Gaussian_Blur.svg/800px-Cappadocia_Gaussian_Blur.svg.png)"
   ]
  },
  {
   "cell_type": "code",
   "execution_count": 3,
   "metadata": {
    "id": "66zrgUzy0Pe-"
   },
   "outputs": [
    {
     "name": "stderr",
     "output_type": "stream",
     "text": [
      "UsageError: Line magic function `%` not found.\n"
     ]
    }
   ],
   "source": [
    "%% write_and_run einsum_task.py\n",
    "\n",
    "# важно! все зависимости, которые используете (если добавляее новые) в этом классе надо явно продублировать в эту ячейку\n",
    "import numpy as np\n",
    "import random\n",
    "\n",
    "SEED = 21\n",
    "random.seed(SEED)\n",
    "np.random.seed(SEED)\n",
    "\n",
    "\n",
    "def task_00(A):\n",
    "    return np.einsum('i->', A)\n",
    "\n",
    "\n",
    "def task_01(A, B):\n",
    "    return np.einsum('i,i->i', A, B)\n",
    "\n",
    "\n",
    "def task_02(A, B):\n",
    "    return np.einsum('i,i->', A, B)\n",
    "\n",
    "\n",
    "def task_03(A, B):\n",
    "    return np.einsum('i,j->ij', A, B)\n"
   ]
  },
  {
   "cell_type": "markdown",
   "metadata": {
    "id": "SX5kxUfUzZ1e"
   },
   "source": [
    "Вам нужно реализовать с помощью numpy двухмерный фильтр Гаусса. Как он вычисляется:\n",
    "\n",
    "$$G = e^{- \\frac{(D - μ)^{2}}{2 \\sigma^{2}} }$$\n",
    "\n",
    "где\n",
    "\n",
    "$$D = \\sqrt{X^2 + Y^2} $$\n",
    "\n",
    "а $\\mu$ и $\\sigma$ - это константы (среднее и стандартное отклонение)\n",
    "\n",
    "Посчитайте фильтр Гаусса на координатах от -1 до 1 (10 точек по каждой оси, подсказка: используйте np.meshgrid)"
   ]
  },
  {
   "cell_type": "code",
   "execution_count": 4,
   "metadata": {
    "id": "gL1zBdFIzVk3"
   },
   "outputs": [
    {
     "name": "stderr",
     "output_type": "stream",
     "text": [
      "UsageError: Line magic function `%` not found.\n"
     ]
    }
   ],
   "source": [
    "%% write_and_run gauss_filter.py\n",
    "\n",
    "# важно! все зависимости, которые используете (если добавляее новые) в этом классе надо явно продублировать в эту ячейку\n",
    "import numpy as np\n",
    "\n",
    "\n",
    "def gauss_filter(sigma=1.0, mu=0.0):\n",
    "    x = np.linspace(-1, 1, 10)\n",
    "    y = np.linspace(-1, 1, 10)\n",
    "\n",
    "    X, Y = np.meshgrid(x, y)\n",
    "\n",
    "    D = np.sqrt(X ** 2 + Y ** 2)\n",
    "\n",
    "    G = np.exp(-((D - mu) ** 2) / (2 * sigma ** 2))\n",
    "\n",
    "    return G\n",
    "\n"
   ]
  },
  {
   "cell_type": "markdown",
   "metadata": {
    "id": "wSlzSbYbrt8P"
   },
   "source": [
    "# Задание №2 (10 баллов)\n",
    "\n",
    "Требуется найти k наибольших элементов в массиве с помощью numpy"
   ]
  },
  {
   "cell_type": "code",
   "execution_count": 5,
   "metadata": {
    "id": "3vyHjf6irxNU"
   },
   "outputs": [
    {
     "name": "stderr",
     "output_type": "stream",
     "text": [
      "UsageError: Line magic function `%` not found.\n"
     ]
    }
   ],
   "source": [
    "%% write_and_run greatest_task.py\n",
    "\n",
    "# важно! все зависимости, которые используете (если добавляее новые) в этом классе надо явно продублировать в эту ячейку\n",
    "import numpy as np\n",
    "import random\n",
    "\n",
    "SEED = 21\n",
    "random.seed(SEED)\n",
    "np.random.seed(SEED)\n",
    "\n",
    "\n",
    "def find_largest_element(array, n=7):\n",
    "    return np.sort(array)[-n:]\n"
   ]
  },
  {
   "cell_type": "markdown",
   "metadata": {
    "id": "fM1HKfd0tnAM"
   },
   "source": [
    "# Задание №3 (20 баллов)\n",
    "\n",
    "**Game of life**\n",
    "\n",
    "Место действия игры — размеченная на клетки плоскость, которая может быть безграничной, ограниченной или замкнутой. Каждая клетка на этой поверхности имеет восемь соседей, окружающих её, и может находиться в двух состояниях: быть «живой» (заполненной) или «мёртвой» (пустой). Распределение живых клеток в начале игры называется первым поколением. Каждое следующее поколение рассчитывается на основе предыдущего по таким правилам:\n",
    "* в пустой (мёртвой) клетке, с которой соседствуют три живые клетки, зарождается жизнь;\n",
    "* если у живой клетки есть две или три живые соседки, и клетка не на границе, то эта клетка продолжает жить; в противном случае (если живых соседей меньше двух или больше трёх) клетка умирает («от одиночества» или «от перенаселённости»).\n",
    "\n",
    "\n",
    "Игра прекращается, если на поле не останется ни одной «живой» клетки; конфигурация на очередном шаге в точности (без сдвигов и поворотов) повторит себя же на одном из более ранних шагов (складывается периодическая конфигурация) при очередном шаге ни одна из клеток не меняет своего состояния (частный случай предыдущего правила, складывается стабильная конфигурация)\n",
    "\n",
    "\n",
    "Ваша задача реализовать игру с помощью numpy"
   ]
  },
  {
   "cell_type": "code",
   "execution_count": 6,
   "metadata": {
    "id": "lBO6xLBHt6g4"
   },
   "outputs": [
    {
     "name": "stderr",
     "output_type": "stream",
     "text": [
      "UsageError: Line magic function `%` not found.\n"
     ]
    }
   ],
   "source": [
    "%% write_and_run game_of_life.py\n",
    "\n",
    "# важно! все зависимости, которые используете (если добавляее новые) в этом классе надо явно продублировать в эту ячейку\n",
    "import numpy as np\n",
    "import random\n",
    "\n",
    "SEED = 21\n",
    "random.seed(SEED)\n",
    "np.random.seed(SEED)\n",
    "\n",
    "\n",
    "def game_of_life_next_step(field):\n",
    "    extended_field = np.zeros((field.shape[0] + 2, field.shape[1] + 2))\n",
    "    extended_field[1:-1, 1:-1] = field\n",
    "\n",
    "    neighbours_count = (\n",
    "            extended_field[:-2, :-2] + extended_field[:-2, 1:-1] + extended_field[:-2, 2:] +\n",
    "            extended_field[1:-1, :-2] + extended_field[1:-1, 2:] +\n",
    "            extended_field[2:, :-2] + extended_field[2:, 1:-1] + extended_field[2:, 2:]\n",
    "    )\n",
    "\n",
    "    birth = (neighbours_count == 3) & (field == 0)\n",
    "    survive = ((neighbours_count == 2) | (neighbours_count == 3)) & (field == 1)\n",
    "\n",
    "    field[:, :] = 0\n",
    "    field[birth | survive] = 1\n",
    "\n",
    "    field[0, :] = 0\n",
    "    field[-1, :] = 0\n",
    "    field[:, 0] = 0\n",
    "    field[:, -1] = 0\n",
    "\n",
    "    return field"
   ]
  },
  {
   "cell_type": "markdown",
   "metadata": {
    "id": "fDW0vR3jH6uj"
   },
   "source": [
    "## Задание №4\n",
    "\n",
    "Вспомним алгоритм дифференциальной эволюции, который проходили на семинаре:\n",
    "\n",
    "1. Инициализация популяции: Начните с создания случайной популяции, где каждый индивид (вектор) представляет собой набор параметров, которые нужно оптимизировать. Эти параметры могут быть представлены вещественными числами.\n",
    "\n",
    "2. Оператор мутации: Для каждого индивида в популяции создается мутантный индивид. Это делается путем комбинирования параметров из нескольких случайно выбранных индивидов с использованием оператора мутации. Обычно оператор мутации может выглядеть так:\n",
    "$mutant = a + mutcoeff * (b - c)$\n",
    "\n",
    "3. Оператор кроссовера (рекомбинации): Мутантный индивид объединяется с исходным индивидом с использованием оператора кроссовера (рекомбинации). Этот оператор помогает определить, какие параметры оставить от исходного индивида и какие параметры заменить мутантными значениями.\n",
    "\n",
    "4. Оценка потомка: Оцените качество потомка, полученного после кроссовера, с помощью целевой функции.\n",
    "\n",
    "5. Селекция. Здесь происходит выбор индивида для следующего поколения: Сравните качество потомка и исходного индивида. Если потомок оказывается лучше, чем исходный индивид, то он становится частью следующего поколения. В противном случае, оставляем исходного индивида.\n",
    "\n",
    "6. Повторение шагов 3-6: Повторяйте операции мутации, кроссовера, оценки и выбора индивидов для следующего поколения некоторое количество итераций или до достижения заданного критерия останова (например, максимальное число итераций или достижение заданной точности).\n",
    "\n",
    "**Ваша задача:**\n",
    "1. Реализовать инциализацию популяции с помощью различных распределений, таких как:\n",
    "\n",
    "    a. [LatinHypercube](https://docs.scipy.org/doc/scipy/reference/generated/scipy.stats.qmc.LatinHypercube.html)\n",
    "\n",
    "    b. [Halton](https://docs.scipy.org/doc/scipy/reference/generated/scipy.stats.qmc.Halton.html)\n",
    "\n",
    "    c. [Sobol](https://docs.scipy.org/doc/scipy/reference/generated/scipy.stats.qmc.Sobol.html)\n",
    "\n",
    "2. Реализовать различные операторы мутации:\n",
    "\n",
    "    a. *Rand2* - выбор 5 случайных элементов $mutant = a + mutcoeff * (b - c) + mutcoeff * (d - e)$\n",
    "\n",
    "    b. *Best1* - использование лучшего элемента, исключая текущего лучшего и нынешний элемент итерации в мутации $mutant = best + mutcoeff * (b - c)$\n",
    "\n",
    "    c. *Rand-to-p-best* - использование одного из $p$ процентов лучших элемента, исключая текущего лучшего и нынешний элемент итерации в мутации $mutant$ = *random better element* $+ mutcoeff * (b - c)$\n",
    "3. Реализовать различные виды селекции\n",
    "\n",
    "    Сейчас селекция происходит по потомку и исходному индвиду. В данном задании требуется реализовать сравнение не по исходному индвидиду, а по:\n",
    "    \n",
    "    a. По худшему индивиду в популяции индвидов (предков)\n",
    "\n",
    "    b. Случайно выбирать индивид из худших индвидов по отношению к исходному. Если таковых нет, то выбирать исходный.\n",
    "\n",
    "    c. Выбирать случайный индвид не включая лучший и нынешний\n",
    "\n",
    "**ВАЖНО**:\n",
    "1. Везде использовать SEED, в том числе при инициализации начальных распределений\n",
    "2. Вместо ```random.choice``` использовать ```np.random.choice(replace=False)```.\n",
    "3. Не удалять строчку ```p = np.random.uniform(p_min, p_max)```.\n",
    "4. После инициализации не забудьте размешать ```population.random(n=population_size)```.\n",
    "5. Постарайтесь не использовать циклы.\n",
    "6. Для инициализации Соболя попробуйте использовать ```random_base2``` и ```np.log2```, если не удовлетворяет, то как обычно.\n",
    "7. Попробуйте использовать ```np.setdiff1d(..., assume_unique=True)```\n",
    "8. Вместо ```min```/```max``` используйте ```np.min```, ```np.max```\n",
    "9. В стратегии мутации ```random_among_worst``` не требуется сортировка"
   ]
  },
  {
   "cell_type": "code",
   "execution_count": 7,
   "metadata": {
    "id": "c9ten_nF1nOk"
   },
   "outputs": [
    {
     "name": "stderr",
     "output_type": "stream",
     "text": [
      "UsageError: Line magic function `%` not found.\n"
     ]
    }
   ],
   "source": [
    "%% write_and_run diff_evolution.py\n",
    "\n",
    "# важно! все зависимости, которые используете (если добавляее новые) в этом классе надо явно продублировать в эту ячейку\n",
    "import numpy as np\n",
    "import random\n",
    "from scipy.stats import qmc\n",
    "import math\n",
    "\n",
    "\n",
    "def differential_evolution(fobj, bounds, mutation_coefficient=0.5,\n",
    "                           crossover_coefficient=0.5, population_size=50, iterations=50,\n",
    "                           init_setting='random', mutation_setting='rand1',\n",
    "                           selection_setting='current', p_min=0.1, p_max=0.2):\n",
    "    # Инициалиация популяции и получение первичных результатов\n",
    "    SEED = 7\n",
    "    random.seed(SEED)\n",
    "    np.random.seed(SEED)\n",
    "    bounds = np.array(bounds)\n",
    "    dimensions = len(bounds)\n",
    "    # Случайная инициализация\n",
    "    if init_setting == 'LatinHypercube':\n",
    "        assert population.__class__ == qmc.LatinHypercube\n",
    "        population = population.random(n=population_size)\n",
    "        pass  # your code\n",
    "    elif init_setting == 'Halton':\n",
    "        assert population.__class__ == qmc.Halton\n",
    "        population = population.random(n=population_size)\n",
    "        pass  # your code\n",
    "    elif init_setting == 'Sobol':\n",
    "        assert population.__class__ == qmc.Sobol\n",
    "        pass  # your code\n",
    "    else:\n",
    "        population = np.random.rand(population_size, dimensions)\n",
    "    min_bound, max_bound = bounds.T\n",
    "    diff = np.fabs(min_bound - max_bound)\n",
    "    population_denorm = min_bound + population * diff\n",
    "    fitness = np.asarray([fobj(ind) for ind in population_denorm])\n",
    "    # Найти лучший индекс\n",
    "    best_idx = np.argmin(fitness)\n",
    "    best = population_denorm[best_idx]\n",
    "    for iteration in range(iterations):\n",
    "        for population_index in range(population_size):\n",
    "            idxs = np.setdiff1d(np.arange(population_size), [best_idx, population_index], assume_unique=True)\n",
    "            # Выбор трех случайных элементов\n",
    "            # Оператор мутации\n",
    "            if mutation_setting == 'rand2':\n",
    "                assert 'e' in locals(), \"Данный ассерт проверяет, что вы точно написали формулу\"\n",
    "                assert 'd' in locals(), \"Данный ассерт проверяет, что вы точно написали формулу\"\n",
    "                pass  # your code\n",
    "            elif mutation_setting == 'best1':\n",
    "\n",
    "                assert index_of_best1 not in idxs, \"Данный ассерт проверяет, что вы для выбора b и c вы не будете использовать выбранный, чтобы не повторятmся\"\n",
    "                assert index_of_best1 != population_index, \"Данный ассерт проверяет, что вы не взяли индекс нынешнего индивида\"\n",
    "                assert index_of_best1 != best_idx, \"Данный ассерт проверяет, что вы не взяли индекс самого лучшего индивида\"\n",
    "                if iteration == 0:\n",
    "                    for idx in idxs: assert np.array_equal(population[index_of_best1], population[\n",
    "                        idx]) is False, \"Данный ассерт проверяет правильность выбранного индекса\"\n",
    "                    assert np.array_equal(population[index_of_best1], population[\n",
    "                        population_index]) is False, \"Данный ассерт проверяет правильность выбранного индекса\"\n",
    "                    assert np.array_equal(population[index_of_best1], population[\n",
    "                        best_idx]) is False, \"Данный ассерт проверяет правильность выбранного индекса\"\n",
    "\n",
    "                mutant = np.clip(population[index_of_best1] + mutation_coefficient * (b - c), 0, 1)\n",
    "                pass  # your code\n",
    "            elif mutation_setting == 'rand_to_p_best1':\n",
    "                p = np.random.uniform(p_min, p_max)  # не удалять\n",
    "\n",
    "                assert 'a' not in locals()\n",
    "                assert index_of_rand_to_p_best1 not in idxs, \"Данный ассерт проверяет, что вы для выбора b и c вы не будете использовать выбранный, чтобы не повторятmся\"\n",
    "                assert index_of_rand_to_p_best1 != population_index, \"Данный ассерт проверяет, что вы не взяли индекс нынешнего индивида\"\n",
    "                assert index_of_rand_to_p_best1 != best_idx, \"Данный ассерт проверяет, что вы не взяли индекс самого лучшего индивида\"\n",
    "                if iteration == 0:\n",
    "                    for idx in idxs: assert np.array_equal(population[index_of_rand_to_p_best1], population[\n",
    "                        idx]) is False, \"Данный ассерт проверяет правильность выбранного индекса\"\n",
    "                    assert np.array_equal(population[index_of_rand_to_p_best1], population[\n",
    "                        population_index]) is False, \"Данный ассерт проверяет правильность выбранного индекса\"\n",
    "                    assert np.array_equal(population[index_of_rand_to_p_best1], population[\n",
    "                        best_idx]) is False, \"Данный ассерт проверяет правильность выбранного индекса\"\n",
    "\n",
    "                mutant = np.clip(population[index_of_rand_to_p_best1] + mutation_coefficient * (b - c), 0, 1)\n",
    "                pass  # your code\n",
    "            else:\n",
    "                a, b, c = population[np.random.choice(idxs, 3, replace=False)]\n",
    "                mutant = np.clip(a + mutation_coefficient * (b - c), 0, 1)\n",
    "            # Оператор кроссовера\n",
    "            cross_points = np.random.rand(dimensions) < crossover_coefficient\n",
    "            if not np.any(cross_points):\n",
    "                cross_points[np.random.randint(0, dimensions)] = True\n",
    "            # Рекомбинация (замена мутантными значениями)\n",
    "            trial = np.where(cross_points, mutant, population[population_index])\n",
    "            trial_denorm = min_bound + trial * diff\n",
    "            # Оценка потомка\n",
    "            result_of_evolution = fobj(trial_denorm)\n",
    "            # Селекция\n",
    "            if selection_setting == 'worst':\n",
    "                selection_index = np.argmax(fitness)\n",
    "                pass  # your code\n",
    "            elif selection_setting == 'random_among_worst':\n",
    "                pass  # your code\n",
    "            elif selection_setting == 'random_selection':\n",
    "                pass  # your code\n",
    "            else:\n",
    "                selection_index = population_index\n",
    "            if result_of_evolution < fitness[selection_index]:\n",
    "                fitness[selection_index] = result_of_evolution\n",
    "                population[selection_index] = trial\n",
    "                if result_of_evolution < fitness[best_idx]:\n",
    "                    best_idx = selection_index\n",
    "                    best = trial_denorm\n",
    "        yield best, fitness[best_idx]"
   ]
  },
  {
   "cell_type": "code",
   "execution_count": null,
   "metadata": {},
   "outputs": [],
   "source": []
  },
  {
   "cell_type": "code",
   "execution_count": null,
   "metadata": {},
   "outputs": [],
   "source": []
  },
  {
   "cell_type": "code",
   "execution_count": null,
   "metadata": {},
   "outputs": [],
   "source": []
  }
 ],
 "metadata": {
  "colab": {
   "provenance": []
  },
  "kernelspec": {
   "display_name": "Python 3 (ipykernel)",
   "language": "python",
   "name": "python3"
  },
  "language_info": {
   "codemirror_mode": {
    "name": "ipython",
    "version": 3
   },
   "file_extension": ".py",
   "mimetype": "text/x-python",
   "name": "python",
   "nbconvert_exporter": "python",
   "pygments_lexer": "ipython3",
   "version": "3.11.5"
  }
 },
 "nbformat": 4,
 "nbformat_minor": 1
}
